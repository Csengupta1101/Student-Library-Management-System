{
  "nbformat": 4,
  "nbformat_minor": 0,
  "metadata": {
    "colab": {
      "name": "Student Library Management.ipynb",
      "provenance": [],
      "collapsed_sections": [],
      "toc_visible": true
    },
    "kernelspec": {
      "name": "python3",
      "display_name": "Python 3"
    },
    "language_info": {
      "name": "python"
    }
  },
  "cells": [
    {
      "cell_type": "code",
      "metadata": {
        "id": "zfZPwoLN_jk7",
        "colab": {
          "base_uri": "https://localhost:8080/"
        },
        "outputId": "b8904ca7-94be-477e-f67a-316c4a2042f9"
      },
      "source": [
        "class Library:\n",
        "    def __init__(self, listOfBooks):\n",
        "        self.books = listOfBooks\n",
        "\n",
        "    def displayAvailableBooks(self):\n",
        "        print(\"Books present in this library are: \")\n",
        "        for book in self.books: \n",
        "            print(\" *\" + book)\n",
        "    \n",
        "    def borrowBook(self, bookName):\n",
        "        if bookName in self.books:\n",
        "            print(f\"You have been issued {bookName}. Please keep it safe and return it within 30 days\")\n",
        "            self.books.remove(bookName)\n",
        "            return True\n",
        "        else:\n",
        "            print(\"Sorry, This book is either not available or has already been issued to someone else. Please wait until the book is available\")\n",
        "            return False\n",
        "\n",
        "    def returnBook(self, bookName):\n",
        "        self.books.append(bookName)\n",
        "        print(\"Thanks for returning this book! Hope you enjoyed reading it. Have a great day ahead!\")\n",
        "\n",
        "class Student: \n",
        "    def requestBook(self):\n",
        "        self.book = input(\"Enter the name of the book you want to borrow: \")\n",
        "        return self.book\n",
        "\n",
        "    def returnBook(self):\n",
        "        self.book = input(\"Enter the name of the book you want to return: \")\n",
        "        return self.book\n",
        "         \n",
        "\n",
        "if __name__ == \"__main__\":\n",
        "    centraLibrary = Library([\"Python\", \"C++\", \"Tableau\", \"Machine Learning\"])\n",
        "    student = Student()\n",
        "    # centraLibrary.displayAvailableBooks()\n",
        "    while(True):\n",
        "        welcomeMsg = '''\\n ====== Welcome to Central Library ======\n",
        "        Please choose an option:\n",
        "        1. List all the books\n",
        "        2. Request a book\n",
        "        3. Add/Return a book\n",
        "        4. Exit the Library\n",
        "        '''\n",
        "        print(welcomeMsg)\n",
        "        a = int(input(\"Enter a choice: \"))\n",
        "        if a == 1:\n",
        "            centraLibrary.displayAvailableBooks()\n",
        "        elif a == 2:\n",
        "            centraLibrary.borrowBook(student.requestBook())\n",
        "        elif a == 3:\n",
        "            centraLibrary.returnBook(student.returnBook())\n",
        "        elif a == 4:\n",
        "            print(\"Thanks for choosing Central Library. Have a great day ahead!\")\n",
        "            exit()\n",
        "        else:\n",
        "            print(\"Invalid Choice!\")\n"
      ],
      "execution_count": null,
      "outputs": [
        {
          "output_type": "stream",
          "name": "stdout",
          "text": [
            "\n",
            " ====== Welcome to Central Library ======\n",
            "        Please choose an option:\n",
            "        1. List all the books\n",
            "        2. Request a book\n",
            "        3. Add/Return a book\n",
            "        4. Exit the Library\n",
            "        \n",
            "Enter a choice: 1\n",
            "Books present in this library are: \n",
            " *Python\n",
            " *C++\n",
            " *Tableau\n",
            " *Machine Learning\n",
            "\n",
            " ====== Welcome to Central Library ======\n",
            "        Please choose an option:\n",
            "        1. List all the books\n",
            "        2. Request a book\n",
            "        3. Add/Return a book\n",
            "        4. Exit the Library\n",
            "        \n"
          ]
        }
      ]
    },
    {
      "cell_type": "code",
      "metadata": {
        "id": "o9WpEArDd28v"
      },
      "source": [
        ""
      ],
      "execution_count": null,
      "outputs": []
    }
  ]
}